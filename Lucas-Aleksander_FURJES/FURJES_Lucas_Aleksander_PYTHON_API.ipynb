{
  "cells": [
    {
      "cell_type": "markdown",
      "metadata": {
        "id": "p-OMDY7OMmxx"
      },
      "source": [
        "# Python with APIs\n",
        "Exchanges via HTTP using `requests` package"
      ]
    },
    {
      "cell_type": "code",
      "execution_count": null,
      "metadata": {
        "id": "YtpgylubMmxx"
      },
      "outputs": [],
      "source": [
        "import requests"
      ]
    },
    {
      "cell_type": "markdown",
      "metadata": {
        "id": "x5ndSxoCMmxy"
      },
      "source": [
        "## Example"
      ]
    },
    {
      "cell_type": "markdown",
      "metadata": {
        "id": "HgkYN6MLMmxy"
      },
      "source": [
        "### Agify API"
      ]
    },
    {
      "cell_type": "markdown",
      "metadata": {
        "id": "HCIbbZoVMmxy"
      },
      "source": [
        "Example route for Agify API"
      ]
    },
    {
      "cell_type": "code",
      "execution_count": null,
      "metadata": {
        "id": "9MGPu-9XMmxy"
      },
      "outputs": [],
      "source": [
        "agify_dan = \"https://api.agify.io/?name=dan\""
      ]
    },
    {
      "cell_type": "markdown",
      "metadata": {
        "id": "Te62koLCMmxz"
      },
      "source": [
        "Extract response"
      ]
    },
    {
      "cell_type": "code",
      "execution_count": null,
      "metadata": {
        "id": "dPFqDmCJMmxz",
        "outputId": "c459111e-e81e-46b9-d0b4-2daf7dcc064a"
      },
      "outputs": [
        {
          "name": "stdout",
          "output_type": "stream",
          "text": [
            "Answer status_code: <Response [429]>\n",
            "<class 'str'>\n",
            "<class 'dict'>\n",
            "{\"error\":\"Request limit reached\"}\n",
            "{'error': 'Request limit reached'}\n"
          ]
        }
      ],
      "source": [
        "# Run a GET request\n",
        "agify_answer = requests.get(agify_dan)\n",
        "agify_answer_txt = agify_answer.text\n",
        "agify_answer_json = agify_answer.json()\n",
        "\n",
        "print(f\"Answer status_code: {agify_answer}\")\n",
        "\n",
        "print(type(agify_answer_txt))\n",
        "print(type(agify_answer_json))\n",
        "\n",
        "print(agify_answer_txt)\n",
        "print(agify_answer_json)"
      ]
    },
    {
      "cell_type": "markdown",
      "metadata": {
        "id": "CuDCKcA4Mmxz"
      },
      "source": [
        "## Introductory Exercises"
      ]
    },
    {
      "cell_type": "code",
      "execution_count": null,
      "metadata": {
        "id": "Ll0sz4cgMmxz",
        "outputId": "3a212e78-2a7c-4b4d-a162-74ab8f4db322"
      },
      "outputs": [
        {
          "name": "stdout",
          "output_type": "stream",
          "text": [
            "Please enter your first name: Lucas\n",
            "Hello, it's a pleasure to see you Lucas! And your age is 42 \n"
          ]
        }
      ],
      "source": [
        "# Exercise 1\n",
        "# Write a script that asks the user for their first name\n",
        "# and responds with a personalized message\n",
        "# using the agify API\n",
        "\n",
        "# https://api.agify.io/?name=YOUR_NAME\n",
        "# Example response: {\"name\":\"YOUR_NAME\",\"age\":30,\"count\":12345}\n",
        "\n",
        "name = input(\"Please enter your first name: \")\n",
        "url = f\"https://api.agify.io/?name={name}\"\n",
        "response = requests.get(url)\n",
        "if response.status_code == 200:\n",
        "    data = response.json()\n",
        "    age = data.get(\"age\", \"unknown\")\n",
        "    print(f\"Hello, it's a pleasure to see you {name}! And your age is {age} \")\n",
        "\n",
        "else:\n",
        "    print(\" I think something is wrong \")\n",
        "\n"
      ]
    },
    {
      "cell_type": "code",
      "execution_count": null,
      "metadata": {
        "id": "4nokvDwKMmx0",
        "outputId": "a993681d-f6c9-4f5a-897e-69714b02122c"
      },
      "outputs": [
        {
          "name": "stdout",
          "output_type": "stream",
          "text": [
            "Please enter your first name: Lucas\n",
            "Hello, I'm so happy to see you Lucas! Genderize guesses your gender to be: male\n"
          ]
        }
      ],
      "source": [
        "# Exercise 2\n",
        "# Write a script that asks the user for their first name\n",
        "# and responds with a personalized message\n",
        "# using the genderize API\n",
        "# https://api.genderize.io/?name=YOUR_NAME\n",
        "\n",
        "name = input(\"Please enter your first name: \")\n",
        "url = f\"https://api.genderize.io/?name={name}\"\n",
        "response = requests.get(url)\n",
        "\n",
        "if response.status_code == 200:\n",
        "    data = response.json()\n",
        "    gender = data.get(\"gender\")\n",
        "    print(f\"Hello, I'm so happy to see you {name}! Genderize guesses your gender to be: {gender}\")\n",
        "else:\n",
        "    print(\"There was an error accessing the Genderize API.\")\n"
      ]
    },
    {
      "cell_type": "code",
      "execution_count": null,
      "metadata": {
        "id": "f3HZ8-hlMmx0",
        "outputId": "8ff9b11d-670f-4152-a3f5-59b7706d2fac"
      },
      "outputs": [
        {
          "name": "stdout",
          "output_type": "stream",
          "text": [
            "I beg you, what's your name pls ?  Lucas\n",
            "Hello, you can't imagine how happy I'm to see you Lucas! Nationalize guesses your nationality to be: EC\n"
          ]
        }
      ],
      "source": [
        "# Exercise 3\n",
        "# Write a script that asks the user for their first name\n",
        "# and responds with a personalized message\n",
        "# using the nationalize API\n",
        "# https://api.nationalize.io/?name=YOUR_NAME\n",
        "\n",
        "name = input(\"I beg you, what's your name pls ?  \")\n",
        "url = f\"https://api.nationalize.io/?name={name}\"\n",
        "response = requests.get(url)\n",
        "\n",
        "\n",
        "if response.status_code == 200:\n",
        "    data = response.json()\n",
        "    nationalities = data.get(\"country\", [])\n",
        "    if nationalities:\n",
        "        top_nationality = nationalities[0].get(\"country_id\")\n",
        "        print(f\"Hello, you can't imagine how happy I'm to see you {name}! Nationalize guesses your nationality to be: {top_nationality}\")\n",
        "    else:\n",
        "        print(\"Sadly nationalize is bad and couldnt predict a nationality for your name.\")\n",
        "else:\n",
        "    print(\"There was an error accessing the Nationalize API.\")\n",
        "\n"
      ]
    },
    {
      "cell_type": "code",
      "execution_count": null,
      "metadata": {
        "id": "ZLwXldkeMmx0",
        "outputId": "f99d4088-c8d5-46e5-bfaf-bffd67216097"
      },
      "outputs": [
        {
          "name": "stdout",
          "output_type": "stream",
          "text": [
            "As usual, tell me your name Lucas\n",
            "Hello Lucas! Nationalize guesses your nationality to be: EC with a probability of 8.22%.\n"
          ]
        }
      ],
      "source": [
        "# Exercise 3.1\n",
        "# Parsing the response from the nationalize API\n",
        "# Get the most probable country and its percentage\n",
        "# Example response: {\"name\":\"YOUR_NAME\",\"country\":[{\"country_id\":\"FR\",\"probability\":0.75},{\"country_id\":\"BE\",\"probability\":0.25}]}\n",
        "# Hint: use the max() function with a lambda function\n",
        "# https://docs.python.org/3/library/functions.html#max\n",
        "# https://docs.python.org/3/tutorial/controlflow.html#lambda-expressions\n",
        "\n",
        "\n",
        "name = input(\"As usual, tell me your name \")\n",
        "url = f\"https://api.nationalize.io/?name={name}\"\n",
        "response = requests.get(url)\n",
        "\n",
        "\n",
        "if response.status_code == 200:\n",
        "    data = response.json()\n",
        "    nationalities = data.get(\"country\", [])\n",
        "    if nationalities:\n",
        "        top_nationality = max(nationalities, key=lambda x: x['probability'])\n",
        "        country_id = top_nationality.get(\"country_id\", \"unknown\")\n",
        "        probability = top_nationality.get(\"probability\", 0) * 100\n",
        "        print(f\"Hello {name}! Nationalize guesses your nationality to be: {country_id} with a probability of {probability:.2f}%.\")\n",
        "    else:\n",
        "        print(\"I'm sorry to tell you that nationalize was not able to predict a nationality for your name...\")\n",
        "else:\n",
        "    print(\"There was an error accessing the Nationalize API.\")\n",
        "\n"
      ]
    },
    {
      "cell_type": "code",
      "execution_count": null,
      "metadata": {
        "id": "ptd6RB1cMmx0",
        "outputId": "eeac7c94-db1e-448c-db29-f2d60a3962eb"
      },
      "outputs": [
        {
          "name": "stdout",
          "output_type": "stream",
          "text": [
            "Random Activity: Make a scrapbook with pictures of your favorite memories\n",
            "Activity for 4 Participants: Have a bonfire with your close friends\n",
            "Recreational Activity for 4 Participants: Go see a Broadway production\n",
            "Recreational Activity for 4 Participants: Go see a Broadway production\n",
            "Activity for 2 Participants: Cook something together with someone\n",
            "Note: Manual verification needed to ensure no equipment is required.\n"
          ]
        }
      ],
      "source": [
        "# Exercise 4\n",
        "# Use BoredAPI : https://www.boredapi.com/\n",
        "# Documentation : https://www.boredapi.com/documentation\n",
        "# 1. Write a script that generates random activities\n",
        "# 2. Write a script that generates random activities\n",
        "# 3. Write a script that generates random activities for 4 participants\n",
        "# 4. Write a script that generates random activities for 4 participants and of type \"recreational\"\n",
        "# 5. Write a script that generates random activities for 2 participants and that does not require equipment\n",
        "\n",
        "import requests\n",
        "\n",
        "def get_random_activity():\n",
        "    response = requests.get(\"https://www.boredapi.com/api/activity\")\n",
        "    if response.status_code == 200:\n",
        "        activity = response.json().get(\"activity\", \"No activity found.\")\n",
        "        print(f\"Random Activity: {activity}\")\n",
        "    else:\n",
        "        print(\"There was an error accessing the BoredAPI.\")\n",
        "\n",
        "# Call the function to get a random activity\n",
        "get_random_activity()\n",
        "\n",
        "def get_activity_for_participants(participants=4):\n",
        "    response = requests.get(f\"https://www.boredapi.com/api/activity?participants={participants}\")\n",
        "    if response.status_code == 200:\n",
        "        activity = response.json().get(\"activity\", \"No activity found.\")\n",
        "        print(f\"Activity for {participants} Participants: {activity}\")\n",
        "    else:\n",
        "        print(\"There was an error accessing the BoredAPI.\")\n",
        "\n",
        "# Call the function to get an activity for 4 participants\n",
        "get_activity_for_participants()\n",
        "\n",
        "def get_recreational_activity_for_participants(participants=4):\n",
        "    response = requests.get(f\"https://www.boredapi.com/api/activity?type=recreational&participants={participants}\")\n",
        "    if response.status_code == 200:\n",
        "        activity = response.json().get(\"activity\", \"No activity found.\")\n",
        "        print(f\"Recreational Activity for {participants} Participants: {activity}\")\n",
        "    else:\n",
        "        print(\"There was an error accessing the BoredAPI.\")\n",
        "\n",
        "# Call the function to get a recreational activity for 4 participants\n",
        "get_recreational_activity_for_participants()\n",
        "\n",
        "def get_recreational_activity_for_participants(participants=4):\n",
        "    response = requests.get(f\"https://www.boredapi.com/api/activity?type=recreational&participants={participants}\")\n",
        "    if response.status_code == 200:\n",
        "        activity = response.json().get(\"activity\", \"No activity found.\")\n",
        "        print(f\"Recreational Activity for {participants} Participants: {activity}\")\n",
        "    else:\n",
        "        print(\"There was an error accessing the BoredAPI.\")\n",
        "\n",
        "# Call the function to get a recreational activity for 4 participants\n",
        "get_recreational_activity_for_participants()\n",
        "\n",
        "\n",
        "def get_activities_for_two_participants():\n",
        "    response = requests.get(\"https://www.boredapi.com/api/activity?participants=2\")\n",
        "    if response.status_code == 200:\n",
        "        activity = response.json().get(\"activity\", \"No activity found.\")\n",
        "        # Note: This is where you'd check if the activity requires equipment.\n",
        "        # Since the API doesn't provide this info directly, you might need to\n",
        "        # implement additional logic or use another data source for this check.\n",
        "        print(f\"Activity for 2 Participants: {activity}\")\n",
        "        print(\"Note: Manual verification needed to ensure no equipment is required.\")\n",
        "    else:\n",
        "        print(\"There was an error accessing the BoredAPI.\")\n",
        "\n",
        "# Call the function to attempt to get an activity for 2 participants that might not require equipment\n",
        "get_activities_for_two_participants()"
      ]
    },
    {
      "cell_type": "markdown",
      "metadata": {
        "id": "3ekAq9LDMmx1"
      },
      "source": [
        "## Intermediate exercises"
      ]
    },
    {
      "cell_type": "code",
      "execution_count": 8,
      "metadata": {
        "id": "d4kojFW_Mmx1",
        "outputId": "8e3060c2-69ad-49bd-bde6-60b87db0d3d0",
        "colab": {
          "base_uri": "https://localhost:8080/"
        }
      },
      "outputs": [
        {
          "output_type": "stream",
          "name": "stdout",
          "text": [
            "Kent\n",
            "Sussex\n",
            "Surrey\n",
            "Hampshire\n",
            "Berkshire\n",
            "Wiltshire\n",
            "Dorset\n",
            "Somerset\n",
            "Devon\n",
            "Cornwall\n",
            "Middlesex\n",
            "Hertfordshire\n",
            "Buckinghamshire\n",
            "Gloucestershire\n",
            "Oxfordshire\n",
            "Worcestershire\n",
            "Herefordshire\n",
            "Cambridgeshire\n",
            "Huntingdonshire\n",
            "Bedfordshire\n",
            "Northamptonshire\n",
            "Leicestershire\n",
            "Warwickshire\n",
            "Staffordshire\n",
            "Shropshire\n",
            "Cheshire\n",
            "Derbyshire\n",
            "Nottinghamshire\n",
            "Rutland\n",
            "Yorkshire\n",
            "Lincolnshire\n",
            "Claims: YB\n",
            "Claims: YC\n",
            "Claims: LC\n",
            "Claims: HC\n",
            "Claims: YS\n",
            "Essex\n",
            "Norfolk\n",
            "Suffolk\n",
            "Lancashire\n"
          ]
        }
      ],
      "source": [
        "# OpenDomesday\n",
        "# https://opendomesday.org/api/\n",
        "\n",
        "# Exercise 1\n",
        "# Write a script that displays all the counties\n",
        "# using the OpenDomesday API.\n",
        "\n",
        "import requests\n",
        "\n",
        "url = \"https://opendomesday.org/api/1.0/county/\"\n",
        "response = requests.get(url)\n",
        "\n",
        "if response.status_code == 200:\n",
        "    counties = response.json()\n",
        "    for county in counties:\n",
        "        print(county['name'])\n",
        "else:\n",
        "    print(\"Oh I think there is an error\")"
      ]
    },
    {
      "cell_type": "code",
      "execution_count": 13,
      "metadata": {
        "id": "6CjPfQtAMmx1",
        "outputId": "e7ed81a7-b405-4a84-de3a-5e4f864f9c02",
        "colab": {
          "base_uri": "https://localhost:8080/"
        }
      },
      "outputs": [
        {
          "output_type": "stream",
          "name": "stdout",
          "text": [
            "Information pour Derbyshire:\n",
            "id: dby\n",
            "name: Derbyshire\n",
            "name_slug: derbyshire\n",
            "Nombre de lieux dans Derbyshire: 352\n",
            "[{'id': 1036}, {'id': 2558}, {'id': 3016}, {'id': 4791}, {'id': 6093}, {'id': 8701}, {'id': 8951}, {'id': 9101}, {'id': 11441}, {'id': 10771}, {'id': 16116}, {'id': 20861}, {'id': 22251}, {'id': 22571}, {'id': 22611}, {'id': 24741}, {'id': 25536}, {'id': 19061}, {'id': 30246}, {'id': 31896}, {'id': 32521}, {'id': 32981}, {'id': 33916}, {'id': 41346}, {'id': 41788}, {'id': 41801}, {'id': 45821}, {'id': 47401}, {'id': 47411}, {'id': 52361}, {'id': 52596}, {'id': 53901}, {'id': 54446}, {'id': 54646}, {'id': 55736}, {'id': 56786}, {'id': 57061}, {'id': 60236}, {'id': 60351}, {'id': 60816}, {'id': 63606}, {'id': 65368}, {'id': 73221}, {'id': 73731}, {'id': 73741}, {'id': 91}, {'id': 2623}, {'id': 3011}, {'id': 3941}, {'id': 4046}, {'id': 5016}, {'id': 5676}, {'id': 7111}, {'id': 7116}, {'id': 7451}, {'id': 9056}, {'id': 10981}, {'id': 11656}, {'id': 11941}, {'id': 12751}, {'id': 13401}, {'id': 14081}, {'id': 14306}, {'id': 15306}, {'id': 15451}, {'id': 17386}, {'id': 17811}, {'id': 19611}, {'id': 22436}, {'id': 22476}, {'id': 24011}, {'id': 24306}, {'id': 25081}, {'id': 27521}, {'id': 33816}, {'id': 40056}, {'id': 28311}, {'id': 29846}, {'id': 30061}, {'id': 30211}, {'id': 30536}, {'id': 30571}, {'id': 20391}, {'id': 32571}, {'id': 33016}, {'id': 36211}, {'id': 37586}, {'id': 40057}, {'id': 39661}, {'id': 39956}, {'id': 40466}, {'id': 42799}, {'id': 43751}, {'id': 44321}, {'id': 28296}, {'id': 34241}, {'id': 46861}, {'id': 26971}, {'id': 2366}, {'id': 48026}, {'id': 49236}, {'id': 50311}, {'id': 52766}, {'id': 52791}, {'id': 55006}, {'id': 55131}, {'id': 58231}, {'id': 59051}, {'id': 42936}, {'id': 61396}, {'id': 62566}, {'id': 63721}, {'id': 67724}, {'id': 69701}, {'id': 72781}, {'id': 73841}, {'id': 14941}, {'id': 20691}, {'id': 39371}, {'id': 42171}, {'id': 54526}, {'id': 46681}, {'id': 51241}, {'id': 64663}, {'id': 70526}, {'id': 1326}, {'id': 2401}, {'id': 3291}, {'id': 4001}, {'id': 8116}, {'id': 8831}, {'id': 9461}, {'id': 10196}, {'id': 12706}, {'id': 13281}, {'id': 22243}, {'id': 18184}, {'id': 18736}, {'id': 23231}, {'id': 6141}, {'id': 29236}, {'id': 29861}, {'id': 32336}, {'id': 33086}, {'id': 34446}, {'id': 35221}, {'id': 35041}, {'id': 37056}, {'id': 38231}, {'id': 40456}, {'id': 41344}, {'id': 42041}, {'id': 42046}, {'id': 42797}, {'id': 45553}, {'id': 46851}, {'id': 48266}, {'id': 49221}, {'id': 55881}, {'id': 56826}, {'id': 56941}, {'id': 61526}, {'id': 62731}, {'id': 63966}, {'id': 66911}, {'id': 68251}, {'id': 68481}, {'id': 68546}, {'id': 71226}, {'id': 71466}, {'id': 1136}, {'id': 1456}, {'id': 1596}, {'id': 2106}, {'id': 3163}, {'id': 4646}, {'id': 5396}, {'id': 8456}, {'id': 11731}, {'id': 14476}, {'id': 18001}, {'id': 19416}, {'id': 22741}, {'id': 23256}, {'id': 23731}, {'id': 24921}, {'id': 35046}, {'id': 35311}, {'id': 37656}, {'id': 39466}, {'id': 39566}, {'id': 40901}, {'id': 41658}, {'id': 42536}, {'id': 42741}, {'id': 44361}, {'id': 45893}, {'id': 47416}, {'id': 49901}, {'id': 50661}, {'id': 50806}, {'id': 54966}, {'id': 56216}, {'id': 58701}, {'id': 61046}, {'id': 63391}, {'id': 65696}, {'id': 69008}, {'id': 69081}, {'id': 70641}, {'id': 8956}, {'id': 9586}, {'id': 9611}, {'id': 13741}, {'id': 13806}, {'id': 16581}, {'id': 18621}, {'id': 19941}, {'id': 20101}, {'id': 21051}, {'id': 21326}, {'id': 28556}, {'id': 30666}, {'id': 31306}, {'id': 32361}, {'id': 33141}, {'id': 33376}, {'id': 34646}, {'id': 35946}, {'id': 37591}, {'id': 14686}, {'id': 22266}, {'id': 28563}, {'id': 22271}, {'id': 41006}, {'id': 41521}, {'id': 43091}, {'id': 43991}, {'id': 46746}, {'id': 48806}, {'id': 51961}, {'id': 52096}, {'id': 53806}, {'id': 53996}, {'id': 55576}, {'id': 55956}, {'id': 56606}, {'id': 56696}, {'id': 57526}, {'id': 58046}, {'id': 58196}, {'id': 66498}, {'id': 16166}, {'id': 18951}, {'id': 22546}, {'id': 58356}, {'id': 71196}, {'id': 986}, {'id': 2711}, {'id': 4311}, {'id': 4369}, {'id': 5791}, {'id': 7651}, {'id': 8016}, {'id': 8721}, {'id': 9218}, {'id': 10026}, {'id': 12721}, {'id': 14691}, {'id': 16356}, {'id': 3106}, {'id': 20756}, {'id': 21276}, {'id': 21301}, {'id': 22406}, {'id': 22766}, {'id': 23121}, {'id': 23598}, {'id': 26856}, {'id': 4367}, {'id': 27776}, {'id': 29076}, {'id': 29411}, {'id': 32576}, {'id': 32686}, {'id': 35996}, {'id': 40296}, {'id': 29071}, {'id': 44051}, {'id': 44161}, {'id': 49241}, {'id': 45036}, {'id': 45366}, {'id': 71096}, {'id': 46101}, {'id': 46946}, {'id': 9288}, {'id': 65551}, {'id': 69858}, {'id': 47811}, {'id': 48031}, {'id': 48116}, {'id': 51193}, {'id': 52801}, {'id': 54166}, {'id': 55731}, {'id': 45936}, {'id': 71101}, {'id': 57756}, {'id': 58531}, {'id': 33646}, {'id': 60001}, {'id': 60836}, {'id': 61561}, {'id': 45941}, {'id': 63656}, {'id': 64516}, {'id': 65483}, {'id': 65938}, {'id': 66136}, {'id': 66256}, {'id': 66576}, {'id': 67036}, {'id': 68591}, {'id': 69901}, {'id': 70561}, {'id': 71081}, {'id': 52156}, {'id': 1906}, {'id': 8081}, {'id': 9741}, {'id': 12676}, {'id': 13531}, {'id': 17906}, {'id': 21011}, {'id': 25441}, {'id': 29931}, {'id': 30696}, {'id': 34821}, {'id': 40511}, {'id': 42251}, {'id': 43196}, {'id': 45656}, {'id': 51576}, {'id': 52566}, {'id': 56681}, {'id': 58171}, {'id': 58191}, {'id': 60031}, {'id': 60896}, {'id': 63696}, {'id': 67171}]\n"
          ]
        }
      ],
      "source": [
        "# Exercise 2\n",
        "# Write a script that displays the information\n",
        "# of the county \"Derbyshire\".\n",
        "\n",
        "import requests\n",
        "\n",
        "def fetch_county_info_by_name(county_name):\n",
        "    url = \"https://opendomesday.org/api/1.0/county/\"\n",
        "    response = requests.get(url)\n",
        "    if response.status_code == 200:\n",
        "        counties = response.json()\n",
        "        for county in counties:\n",
        "            if county['name'].lower() == county_name.lower():\n",
        "                return county\n",
        "    return None\n",
        "\n",
        "def fetch_places_in_county(county_id):\n",
        "    url = f\"https://opendomesday.org/api/1.0/county/{county_id}\"\n",
        "    response = requests.get(url)\n",
        "    if response.status_code == 200:\n",
        "        county_data = response.json()\n",
        "        return county_data.get('places_in_county', [])\n",
        "    return []\n",
        "\n",
        "def main():\n",
        "    county_name = \"Derbyshire\"\n",
        "    county_info = fetch_county_info_by_name(county_name)\n",
        "    if county_info:\n",
        "        print(f\"Information pour {county_name}:\")\n",
        "        for key, value in county_info.items():\n",
        "            if key != 'places_in_county':\n",
        "                print(f\"{key}: {value}\")\n",
        "\n",
        "        county_id = county_info.get('id')\n",
        "        if county_id:\n",
        "            places_in_county = fetch_places_in_county(county_id)\n",
        "            print(f\"Nombre de lieux dans {county_name}: {len(places_in_county)}\")\n",
        "            print(places_in_county)\n",
        "    else:\n",
        "        print(f\"Comté nommé {county_name} introuvable.\")\n",
        "\n",
        "if __name__ == \"__main__\":\n",
        "    main()"
      ]
    },
    {
      "cell_type": "code",
      "execution_count": 14,
      "metadata": {
        "id": "--p6YiPVMmx1",
        "outputId": "5dec3582-390d-488c-a731-c13bf95a765f",
        "colab": {
          "base_uri": "https://localhost:8080/"
        }
      },
      "outputs": [
        {
          "output_type": "stream",
          "name": "stdout",
          "text": [
            "Oh I think there is an error\n"
          ]
        }
      ],
      "source": [
        "# Exercise 3\n",
        "# Now that we have the ids for all the places in Derbyshire, we can load all their details...\n",
        "# And from their details, we can list all the details of their manors.\n",
        "# Go fetch the data!\n",
        "# P.S.: remember to save the data to avoid downloading it every time\n",
        "\n",
        "import os\n",
        "import json\n",
        "\n",
        "def fetch_place_and_manor_details(county_name):\n",
        "    places_url = f\"https://opendomesday.org/api/county/{county_name}/places\"\n",
        "    response = requests.get(places_url)\n",
        "\n",
        "    if response.status_code == 200:\n",
        "        places = response.json()\n",
        "        for place in places:\n",
        "            place_id = place['id']\n",
        "            place_details = fetch_place_details(place_id)\n",
        "            print(f\"Details for place {place_id}: {place_details}\")\n",
        "    else:\n",
        "        print(\"Oh I think there is an error\")\n",
        "\n",
        "def fetch_place_details(place_id):\n",
        "    filename = f\"/mnt/data/place_{place_id}.json\"\n",
        "    if os.path.exists(filename):\n",
        "        with open(filename, 'r') as file:\n",
        "            return json.load(file)\n",
        "    else:\n",
        "        url = f\"https://opendomesday.org/api/place/{place_id}\"\n",
        "        response = requests.get(url)\n",
        "        if response.status_code == 200:\n",
        "            place_details = response.json()\n",
        "            with open(filename, 'w') as file:\n",
        "                json.dump(place_details, file)\n",
        "            return place_details\n",
        "        else:\n",
        "            print(\"Oh I think there is an error\")\n",
        "            return {}\n",
        "\n",
        "fetch_place_and_manor_details(\"Derbyshire\")\n",
        "\n"
      ]
    },
    {
      "cell_type": "code",
      "execution_count": 11,
      "metadata": {
        "id": "9gOI6rjdMmx2",
        "outputId": "b20ab66d-1472-4622-805e-6cd99189ea51",
        "colab": {
          "base_uri": "https://localhost:8080/",
          "height": 207
        }
      },
      "outputs": [
        {
          "output_type": "error",
          "ename": "NameError",
          "evalue": "name 'county_name' is not defined",
          "traceback": [
            "\u001b[0;31m---------------------------------------------------------------------------\u001b[0m",
            "\u001b[0;31mNameError\u001b[0m                                 Traceback (most recent call last)",
            "\u001b[0;32m<ipython-input-11-7315cc7db613>\u001b[0m in \u001b[0;36m<cell line: 10>\u001b[0;34m()\u001b[0m\n\u001b[1;32m      8\u001b[0m \u001b[0;34m\u001b[0m\u001b[0m\n\u001b[1;32m      9\u001b[0m \u001b[0mdirectory\u001b[0m \u001b[0;34m=\u001b[0m \u001b[0;34m\"/mnt/data/\"\u001b[0m\u001b[0;34m\u001b[0m\u001b[0;34m\u001b[0m\u001b[0m\n\u001b[0;32m---> 10\u001b[0;31m \u001b[0mcsv_filename\u001b[0m \u001b[0;34m=\u001b[0m \u001b[0;34mf\"/mnt/data/{county_name}_manors.csv\"\u001b[0m\u001b[0;34m\u001b[0m\u001b[0;34m\u001b[0m\u001b[0m\n\u001b[0m\u001b[1;32m     11\u001b[0m \u001b[0mheaders\u001b[0m \u001b[0;34m=\u001b[0m \u001b[0;34m[\u001b[0m\u001b[0;34m'Manor ID'\u001b[0m\u001b[0;34m,\u001b[0m \u001b[0;34m'Money Paid'\u001b[0m\u001b[0;34m,\u001b[0m \u001b[0;34m'Number of Ploughs'\u001b[0m\u001b[0;34m]\u001b[0m\u001b[0;34m\u001b[0m\u001b[0;34m\u001b[0m\u001b[0m\n\u001b[1;32m     12\u001b[0m \u001b[0mos\u001b[0m\u001b[0;34m.\u001b[0m\u001b[0mmakedirs\u001b[0m\u001b[0;34m(\u001b[0m\u001b[0mdirectory\u001b[0m\u001b[0;34m,\u001b[0m \u001b[0mexist_ok\u001b[0m\u001b[0;34m=\u001b[0m\u001b[0;32mTrue\u001b[0m\u001b[0;34m)\u001b[0m\u001b[0;34m\u001b[0m\u001b[0;34m\u001b[0m\u001b[0m\n",
            "\u001b[0;31mNameError\u001b[0m: name 'county_name' is not defined"
          ]
        }
      ],
      "source": [
        "# Exercise 4\n",
        "# Now that we have a quantity of raw data, we will extract the interesting parts.\n",
        "# In our case, we want to count the money paid by each manor and compare it to the number of ploughs it has.\n",
        "# - Can you find the corresponding json fields?\n",
        "# - Then, you can list these numbers for each manor in Derbyshire.\n",
        "# - And format this in an appropriate comma-separated values (CSV) file.\n",
        "\n",
        "\n",
        "url = \"https://opendomesday.org/api/places/Derbyshire\"\n",
        "response = requests.get(url)\n",
        "\n",
        "headers = ['Manor ID', 'Money Paid', 'Number of Ploughs']\n",
        "os.makedirs(directory, exist_ok=True)\n",
        "\n",
        "with open(csv_filename, 'w', newline='') as csvfile:\n",
        "    csvwriter = csv.writer(csvfile)\n",
        "    csvwriter.writerow(headers)\n",
        "    for filename in os.listdir(directory):\n",
        "        if filename.startswith(f\"place_\") and filename.endswith(\".json\"):\n",
        "            filepath = os.path.join(directory, filename)\n",
        "            with open(filepath, 'r') as file:\n",
        "                data = json.load(file)\n",
        "                # Extract manor details\n",
        "                for manor in data.get('manors', []):\n",
        "                    manor_id = manor.get('id', 'Unknown')\n",
        "                    money_paid = manor.get('money_paid', 0)\n",
        "                    ploughs = manor.get('ploughs', 0)\n",
        "                    csvwriter.writerow([manor_id, money_paid, ploughs])\n",
        "\n",
        "print(f\"Data extracted to {csv_filename}\")\n",
        "\n",
        "\n"
      ]
    },
    {
      "cell_type": "code",
      "execution_count": null,
      "metadata": {
        "id": "XxLdPXS9Mmx2",
        "outputId": "5d3c59a3-c791-4027-a3c4-b3d24b0fe39e"
      },
      "outputs": [
        {
          "name": "stdout",
          "output_type": "stream",
          "text": [
            "No manors found in Derbyshire or unable to determine the richest.\n"
          ]
        }
      ],
      "source": [
        "# Exercise 5\n",
        "# What is the richest manor in Derbyshire?\n",
        "\n",
        "url = \"https://opendomesday.org/api/places/Derbyshire\"\n",
        "response = requests.get(url)\n",
        "\n",
        "if response.status_code == 200:\n",
        "    data = response.json()\n",
        "    manors = [manor for place in data['places'] for manor in place.get('manors', [])]\n",
        "    if manors:\n",
        "        richest_manor = max(manors, key=lambda x: x.get('money_paid', 0))\n",
        "        if richest_manor.get('money_paid'):\n",
        "            print(f\"The richest manor in Derbyshire is {richest_manor['name']} with a payment of {richest_manor['money_paid']}.\")\n",
        "        else:\n",
        "            print(\"No payment data available\")\n",
        "    else:\n",
        "        print(\"No manor data available\")\n",
        "else:\n",
        "    print(\"Erreur\")"
      ]
    },
    {
      "cell_type": "code",
      "execution_count": null,
      "metadata": {
        "id": "XvzOPS1WMmx2",
        "outputId": "ed889f7a-5cc5-4bc1-96ee-bae85d5bd27d"
      },
      "outputs": [
        {
          "name": "stdout",
          "output_type": "stream",
          "text": [
            "The total value paid by Derbyshire is 0.\n"
          ]
        }
      ],
      "source": [
        "# Exercise 6\n",
        "# Give the total value paid by Derbyshire.\n",
        "\n",
        "url = \"https://opendomesday.org/api/places/Derbyshire\"\n",
        "response = requests.get(url)\n",
        "\n",
        "if response.status_code == 200:\n",
        "    data = response.json()\n",
        "    total_value_paid = 0\n",
        "    manors = [manor for place in data['places'] for manor in place.get('manors', [])]\n",
        "    if manors:\n",
        "        for manor in manors:\n",
        "            total_value_paid += manor.get('money_paid', 0)\n",
        "        print(f\"The total value paid by Derbyshire is {total_value_paid}.\")\n",
        "    else:\n",
        "        print(\"i dont know why but its not working\")\n",
        "else:\n",
        "    print(\"Erreur\")"
      ]
    },
    {
      "cell_type": "code",
      "execution_count": null,
      "metadata": {
        "id": "yfVaUmmnMmx2"
      },
      "outputs": [],
      "source": [
        "# Exercise 7\n",
        "# Create a Python class.\n",
        "# It must include all the previous functionalities.\n",
        "# Refactor your code to make it readable, efficient, and maintainable.\n",
        "\n"
      ]
    },
    {
      "cell_type": "code",
      "execution_count": null,
      "metadata": {
        "id": "4KEGNxycMmx3",
        "outputId": "896ed5e2-5833-4048-d196-3daaa47693d0"
      },
      "outputs": [
        {
          "name": "stdout",
          "output_type": "stream",
          "text": [
            "An error occurred while fetching data: 404 Client Error: Not Found for url: https://opendomesday.org/api/county/Derbyshire\n"
          ]
        }
      ],
      "source": [
        "# Exercise 8 (optional)\n",
        "# Add to your class a system for error handling.\n",
        "# It must manage the following errors:\n",
        "# - Connection error\n",
        "# - Parsing error\n",
        "# - Request error\n",
        "# - Response error\n",
        "# - Parameter error\n",
        "\n"
      ]
    },
    {
      "cell_type": "code",
      "execution_count": null,
      "metadata": {
        "id": "rOiYsQh2Mmx3"
      },
      "outputs": [],
      "source": []
    }
  ],
  "metadata": {
    "kernelspec": {
      "display_name": "Python 3 (ipykernel)",
      "language": "python",
      "name": "python3"
    },
    "language_info": {
      "codemirror_mode": {
        "name": "ipython",
        "version": 3
      },
      "file_extension": ".py",
      "mimetype": "text/x-python",
      "name": "python",
      "nbconvert_exporter": "python",
      "pygments_lexer": "ipython3",
      "version": "3.9.13"
    },
    "colab": {
      "provenance": []
    }
  },
  "nbformat": 4,
  "nbformat_minor": 0
}